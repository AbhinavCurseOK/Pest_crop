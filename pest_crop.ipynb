{
  "metadata": {
    "kernelspec": {
      "language": "python",
      "display_name": "Python 3",
      "name": "python3"
    },
    "language_info": {
      "name": "python",
      "version": "3.10.12",
      "mimetype": "text/x-python",
      "codemirror_mode": {
        "name": "ipython",
        "version": 3
      },
      "pygments_lexer": "ipython3",
      "nbconvert_exporter": "python",
      "file_extension": ".py"
    },
    "kaggle": {
      "accelerator": "nvidiaTeslaT4",
      "dataSources": [
        {
          "sourceId": 6812089,
          "sourceType": "datasetVersion",
          "datasetId": 3918791
        }
      ],
      "dockerImageVersionId": 30919,
      "isInternetEnabled": true,
      "language": "python",
      "sourceType": "notebook",
      "isGpuEnabled": true
    },
    "colab": {
      "name": "pest_crop",
      "provenance": [],
      "include_colab_link": true
    }
  },
  "nbformat_minor": 0,
  "nbformat": 4,
  "cells": [
    {
      "cell_type": "markdown",
      "metadata": {
        "id": "view-in-github",
        "colab_type": "text"
      },
      "source": [
        "<a href=\"https://colab.research.google.com/github/AbhinavCurseOK/Pest_crop/blob/main/pest_crop.ipynb\" target=\"_parent\"><img src=\"https://colab.research.google.com/assets/colab-badge.svg\" alt=\"Open In Colab\"/></a>"
      ]
    },
    {
      "source": [
        "# IMPORTANT: RUN THIS CELL IN ORDER TO IMPORT YOUR KAGGLE DATA SOURCES,\n",
        "# THEN FEEL FREE TO DELETE THIS CELL.\n",
        "# NOTE: THIS NOTEBOOK ENVIRONMENT DIFFERS FROM KAGGLE'S PYTHON\n",
        "# ENVIRONMENT SO THERE MAY BE MISSING LIBRARIES USED BY YOUR\n",
        "# NOTEBOOK.\n",
        "import kagglehub\n",
        "armaanoajay_ccmt_crop_pest_and_disease_detection_path = kagglehub.dataset_download('armaanoajay/ccmt-crop-pest-and-disease-detection')\n",
        "\n",
        "print('Data source import complete.')\n"
      ],
      "metadata": {
        "id": "KSCdvyNN6LIZ"
      },
      "cell_type": "code",
      "outputs": [],
      "execution_count": null
    },
    {
      "cell_type": "code",
      "source": [
        "import tensorflow as tf\n",
        "from tensorflow.keras.preprocessing.image import ImageDataGenerator\n",
        "from tensorflow.keras.applications import MobileNetV2\n",
        "from tensorflow.keras.models import Model\n",
        "from tensorflow.keras.layers import Input, GlobalAveragePooling2D, Dense,Dropout,BatchNormalization"
      ],
      "metadata": {
        "trusted": true,
        "execution": {
          "iopub.status.busy": "2025-03-09T13:12:55.693066Z",
          "iopub.execute_input": "2025-03-09T13:12:55.69337Z",
          "iopub.status.idle": "2025-03-09T13:12:55.697487Z",
          "shell.execute_reply.started": "2025-03-09T13:12:55.693349Z",
          "shell.execute_reply": "2025-03-09T13:12:55.696689Z"
        },
        "id": "BQk70it_6LIa"
      },
      "outputs": [],
      "execution_count": null
    },
    {
      "cell_type": "code",
      "source": [
        "import kagglehub\n",
        "path = kagglehub.dataset_download(\"armaanoajay/ccmt-crop-pest-and-disease-detection\")"
      ],
      "metadata": {
        "trusted": true,
        "execution": {
          "iopub.status.busy": "2025-03-09T13:12:55.699907Z",
          "iopub.execute_input": "2025-03-09T13:12:55.700137Z",
          "iopub.status.idle": "2025-03-09T13:12:55.781571Z",
          "shell.execute_reply.started": "2025-03-09T13:12:55.700117Z",
          "shell.execute_reply": "2025-03-09T13:12:55.780841Z"
        },
        "id": "CowSGMJ16LIb"
      },
      "outputs": [],
      "execution_count": null
    },
    {
      "cell_type": "code",
      "source": [
        "train_dir = \"/kaggle/input/ccmt-crop-pest-and-disease-detection/split-new/train\"\n",
        "valid_dir = \"/kaggle/input/ccmt-crop-pest-and-disease-detection/split-new/valid\"\n",
        "test_dir = \"/kaggle/input/ccmt-crop-pest-and-disease-detection/split-new/test\"\n",
        "img_size = (224, 224)\n",
        "batch_size = 64\n",
        "num_classes = 22"
      ],
      "metadata": {
        "trusted": true,
        "execution": {
          "iopub.status.busy": "2025-03-09T13:12:55.782724Z",
          "iopub.execute_input": "2025-03-09T13:12:55.782994Z",
          "iopub.status.idle": "2025-03-09T13:12:55.78609Z",
          "shell.execute_reply.started": "2025-03-09T13:12:55.782976Z",
          "shell.execute_reply": "2025-03-09T13:12:55.785373Z"
        },
        "id": "wHijHoDs6LIb"
      },
      "outputs": [],
      "execution_count": null
    },
    {
      "cell_type": "code",
      "source": [
        "datagen = ImageDataGenerator(\n",
        "    rescale=1./255,\n",
        "    rotation_range=2,\n",
        "    width_shift_range=0.025,\n",
        "    height_shift_range=0.025,\n",
        "    zoom_range=0.015,\n",
        "    horizontal_flip=False\n",
        ")\n",
        "train_generator = datagen.flow_from_directory(\n",
        "    train_dir,\n",
        "    target_size=img_size,\n",
        "    batch_size=batch_size,\n",
        "    class_mode='categorical'\n",
        ")\n",
        "valid_generator = ImageDataGenerator(rescale=1./255).flow_from_directory(\n",
        "    valid_dir,\n",
        "    target_size=img_size,\n",
        "    batch_size=batch_size,\n",
        "    class_mode='categorical'\n",
        ")\n",
        "test_generator = ImageDataGenerator(rescale=1./255).flow_from_directory(\n",
        "    test_dir,\n",
        "    target_size=img_size,\n",
        "    batch_size=batch_size,\n",
        "    class_mode='categorical',\n",
        "    shuffle=False\n",
        ")"
      ],
      "metadata": {
        "trusted": true,
        "execution": {
          "iopub.status.busy": "2025-03-09T13:12:55.787616Z",
          "iopub.execute_input": "2025-03-09T13:12:55.78793Z",
          "iopub.status.idle": "2025-03-09T13:13:44.153997Z",
          "shell.execute_reply.started": "2025-03-09T13:12:55.787896Z",
          "shell.execute_reply": "2025-03-09T13:13:44.153324Z"
        },
        "id": "-VhnKtga6LIc",
        "outputId": "a6a02af2-62bd-46ac-b216-68b12d79cea1"
      },
      "outputs": [
        {
          "name": "stdout",
          "text": "Found 15062 images belonging to 22 classes.\nFound 5012 images belonging to 22 classes.\nFound 5052 images belonging to 22 classes.\n",
          "output_type": "stream"
        }
      ],
      "execution_count": null
    },
    {
      "cell_type": "code",
      "source": [
        "from tensorflow.keras.callbacks import EarlyStopping, ReduceLROnPlateau\n",
        "lr_scheduler = ReduceLROnPlateau(monitor='val_loss',\n",
        "                                 factor=0.5,\n",
        "                                 patience=3,\n",
        "                                 min_lr=1e-6)\n",
        "\n",
        "early_stopping = EarlyStopping(monitor='val_loss',\n",
        "                               patience=5,\n",
        "                               restore_best_weights=True)"
      ],
      "metadata": {
        "trusted": true,
        "execution": {
          "iopub.status.busy": "2025-03-09T13:13:44.155097Z",
          "iopub.execute_input": "2025-03-09T13:13:44.155341Z",
          "iopub.status.idle": "2025-03-09T13:13:44.161172Z",
          "shell.execute_reply.started": "2025-03-09T13:13:44.155321Z",
          "shell.execute_reply": "2025-03-09T13:13:44.160485Z"
        },
        "id": "0C-uRFpC6LIc"
      },
      "outputs": [],
      "execution_count": null
    },
    {
      "cell_type": "code",
      "source": [
        "base_model = MobileNetV2(weights='imagenet', include_top=False, input_shape=(224, 224, 3))\n",
        "base_model.trainable = False\n",
        "inputs = Input(shape=(224, 224, 3))\n",
        "x = base_model(inputs)\n",
        "x = GlobalAveragePooling2D()(x)\n",
        "outputs = Dense(num_classes, activation='softmax')(x)\n",
        "model = Model(inputs=inputs, outputs=outputs)"
      ],
      "metadata": {
        "trusted": true,
        "execution": {
          "iopub.status.busy": "2025-03-09T13:13:44.161978Z",
          "iopub.execute_input": "2025-03-09T13:13:44.16217Z",
          "iopub.status.idle": "2025-03-09T13:13:47.545827Z",
          "shell.execute_reply.started": "2025-03-09T13:13:44.162153Z",
          "shell.execute_reply": "2025-03-09T13:13:47.545179Z"
        },
        "id": "RPJBV9ng6LId",
        "outputId": "da39693e-3e18-42a9-d3c8-789c1caa5c92"
      },
      "outputs": [
        {
          "name": "stdout",
          "text": "Downloading data from https://storage.googleapis.com/tensorflow/keras-applications/mobilenet_v2/mobilenet_v2_weights_tf_dim_ordering_tf_kernels_1.0_224_no_top.h5\n\u001b[1m9406464/9406464\u001b[0m \u001b[32m━━━━━━━━━━━━━━━━━━━━\u001b[0m\u001b[37m\u001b[0m \u001b[1m0s\u001b[0m 0us/step\n",
          "output_type": "stream"
        }
      ],
      "execution_count": null
    },
    {
      "cell_type": "code",
      "source": [
        "model.compile(optimizer='adam', loss='categorical_crossentropy', metrics=['accuracy'])"
      ],
      "metadata": {
        "trusted": true,
        "execution": {
          "iopub.status.busy": "2025-03-09T13:13:47.546548Z",
          "iopub.execute_input": "2025-03-09T13:13:47.546837Z",
          "iopub.status.idle": "2025-03-09T13:13:47.559055Z",
          "shell.execute_reply.started": "2025-03-09T13:13:47.546799Z",
          "shell.execute_reply": "2025-03-09T13:13:47.55824Z"
        },
        "id": "3Q6CFabO6LId"
      },
      "outputs": [],
      "execution_count": null
    },
    {
      "cell_type": "code",
      "source": [
        "model.summary()"
      ],
      "metadata": {
        "trusted": true,
        "execution": {
          "iopub.status.busy": "2025-03-09T13:13:47.559864Z",
          "iopub.execute_input": "2025-03-09T13:13:47.560154Z",
          "iopub.status.idle": "2025-03-09T13:13:47.581447Z",
          "shell.execute_reply.started": "2025-03-09T13:13:47.560127Z",
          "shell.execute_reply": "2025-03-09T13:13:47.580869Z"
        },
        "id": "1BilUQ4U6LId",
        "outputId": "7d1a14c5-14bf-4441-c52c-f8101be501ca"
      },
      "outputs": [
        {
          "output_type": "display_data",
          "data": {
            "text/plain": "\u001b[1mModel: \"functional\"\u001b[0m\n",
            "text/html": "<pre style=\"white-space:pre;overflow-x:auto;line-height:normal;font-family:Menlo,'DejaVu Sans Mono',consolas,'Courier New',monospace\"><span style=\"font-weight: bold\">Model: \"functional\"</span>\n</pre>\n"
          },
          "metadata": {}
        },
        {
          "output_type": "display_data",
          "data": {
            "text/plain": "┏━━━━━━━━━━━━━━━━━━━━━━━━━━━━━━━━━━━━━━┳━━━━━━━━━━━━━━━━━━━━━━━━━━━━━┳━━━━━━━━━━━━━━━━━┓\n┃\u001b[1m \u001b[0m\u001b[1mLayer (type)                        \u001b[0m\u001b[1m \u001b[0m┃\u001b[1m \u001b[0m\u001b[1mOutput Shape               \u001b[0m\u001b[1m \u001b[0m┃\u001b[1m \u001b[0m\u001b[1m        Param #\u001b[0m\u001b[1m \u001b[0m┃\n┡━━━━━━━━━━━━━━━━━━━━━━━━━━━━━━━━━━━━━━╇━━━━━━━━━━━━━━━━━━━━━━━━━━━━━╇━━━━━━━━━━━━━━━━━┩\n│ input_layer_1 (\u001b[38;5;33mInputLayer\u001b[0m)           │ (\u001b[38;5;45mNone\u001b[0m, \u001b[38;5;34m224\u001b[0m, \u001b[38;5;34m224\u001b[0m, \u001b[38;5;34m3\u001b[0m)         │               \u001b[38;5;34m0\u001b[0m │\n├──────────────────────────────────────┼─────────────────────────────┼─────────────────┤\n│ mobilenetv2_1.00_224 (\u001b[38;5;33mFunctional\u001b[0m)    │ (\u001b[38;5;45mNone\u001b[0m, \u001b[38;5;34m7\u001b[0m, \u001b[38;5;34m7\u001b[0m, \u001b[38;5;34m1280\u001b[0m)          │       \u001b[38;5;34m2,257,984\u001b[0m │\n├──────────────────────────────────────┼─────────────────────────────┼─────────────────┤\n│ global_average_pooling2d             │ (\u001b[38;5;45mNone\u001b[0m, \u001b[38;5;34m1280\u001b[0m)                │               \u001b[38;5;34m0\u001b[0m │\n│ (\u001b[38;5;33mGlobalAveragePooling2D\u001b[0m)             │                             │                 │\n├──────────────────────────────────────┼─────────────────────────────┼─────────────────┤\n│ dense (\u001b[38;5;33mDense\u001b[0m)                        │ (\u001b[38;5;45mNone\u001b[0m, \u001b[38;5;34m22\u001b[0m)                  │          \u001b[38;5;34m28,182\u001b[0m │\n└──────────────────────────────────────┴─────────────────────────────┴─────────────────┘\n",
            "text/html": "<pre style=\"white-space:pre;overflow-x:auto;line-height:normal;font-family:Menlo,'DejaVu Sans Mono',consolas,'Courier New',monospace\">┏━━━━━━━━━━━━━━━━━━━━━━━━━━━━━━━━━━━━━━┳━━━━━━━━━━━━━━━━━━━━━━━━━━━━━┳━━━━━━━━━━━━━━━━━┓\n┃<span style=\"font-weight: bold\"> Layer (type)                         </span>┃<span style=\"font-weight: bold\"> Output Shape                </span>┃<span style=\"font-weight: bold\">         Param # </span>┃\n┡━━━━━━━━━━━━━━━━━━━━━━━━━━━━━━━━━━━━━━╇━━━━━━━━━━━━━━━━━━━━━━━━━━━━━╇━━━━━━━━━━━━━━━━━┩\n│ input_layer_1 (<span style=\"color: #0087ff; text-decoration-color: #0087ff\">InputLayer</span>)           │ (<span style=\"color: #00d7ff; text-decoration-color: #00d7ff\">None</span>, <span style=\"color: #00af00; text-decoration-color: #00af00\">224</span>, <span style=\"color: #00af00; text-decoration-color: #00af00\">224</span>, <span style=\"color: #00af00; text-decoration-color: #00af00\">3</span>)         │               <span style=\"color: #00af00; text-decoration-color: #00af00\">0</span> │\n├──────────────────────────────────────┼─────────────────────────────┼─────────────────┤\n│ mobilenetv2_1.00_224 (<span style=\"color: #0087ff; text-decoration-color: #0087ff\">Functional</span>)    │ (<span style=\"color: #00d7ff; text-decoration-color: #00d7ff\">None</span>, <span style=\"color: #00af00; text-decoration-color: #00af00\">7</span>, <span style=\"color: #00af00; text-decoration-color: #00af00\">7</span>, <span style=\"color: #00af00; text-decoration-color: #00af00\">1280</span>)          │       <span style=\"color: #00af00; text-decoration-color: #00af00\">2,257,984</span> │\n├──────────────────────────────────────┼─────────────────────────────┼─────────────────┤\n│ global_average_pooling2d             │ (<span style=\"color: #00d7ff; text-decoration-color: #00d7ff\">None</span>, <span style=\"color: #00af00; text-decoration-color: #00af00\">1280</span>)                │               <span style=\"color: #00af00; text-decoration-color: #00af00\">0</span> │\n│ (<span style=\"color: #0087ff; text-decoration-color: #0087ff\">GlobalAveragePooling2D</span>)             │                             │                 │\n├──────────────────────────────────────┼─────────────────────────────┼─────────────────┤\n│ dense (<span style=\"color: #0087ff; text-decoration-color: #0087ff\">Dense</span>)                        │ (<span style=\"color: #00d7ff; text-decoration-color: #00d7ff\">None</span>, <span style=\"color: #00af00; text-decoration-color: #00af00\">22</span>)                  │          <span style=\"color: #00af00; text-decoration-color: #00af00\">28,182</span> │\n└──────────────────────────────────────┴─────────────────────────────┴─────────────────┘\n</pre>\n"
          },
          "metadata": {}
        },
        {
          "output_type": "display_data",
          "data": {
            "text/plain": "\u001b[1m Total params: \u001b[0m\u001b[38;5;34m2,286,166\u001b[0m (8.72 MB)\n",
            "text/html": "<pre style=\"white-space:pre;overflow-x:auto;line-height:normal;font-family:Menlo,'DejaVu Sans Mono',consolas,'Courier New',monospace\"><span style=\"font-weight: bold\"> Total params: </span><span style=\"color: #00af00; text-decoration-color: #00af00\">2,286,166</span> (8.72 MB)\n</pre>\n"
          },
          "metadata": {}
        },
        {
          "output_type": "display_data",
          "data": {
            "text/plain": "\u001b[1m Trainable params: \u001b[0m\u001b[38;5;34m28,182\u001b[0m (110.09 KB)\n",
            "text/html": "<pre style=\"white-space:pre;overflow-x:auto;line-height:normal;font-family:Menlo,'DejaVu Sans Mono',consolas,'Courier New',monospace\"><span style=\"font-weight: bold\"> Trainable params: </span><span style=\"color: #00af00; text-decoration-color: #00af00\">28,182</span> (110.09 KB)\n</pre>\n"
          },
          "metadata": {}
        },
        {
          "output_type": "display_data",
          "data": {
            "text/plain": "\u001b[1m Non-trainable params: \u001b[0m\u001b[38;5;34m2,257,984\u001b[0m (8.61 MB)\n",
            "text/html": "<pre style=\"white-space:pre;overflow-x:auto;line-height:normal;font-family:Menlo,'DejaVu Sans Mono',consolas,'Courier New',monospace\"><span style=\"font-weight: bold\"> Non-trainable params: </span><span style=\"color: #00af00; text-decoration-color: #00af00\">2,257,984</span> (8.61 MB)\n</pre>\n"
          },
          "metadata": {}
        }
      ],
      "execution_count": null
    },
    {
      "cell_type": "code",
      "source": [
        "history = model.fit(train_generator,validation_data=valid_generator,epochs=10)"
      ],
      "metadata": {
        "trusted": true,
        "execution": {
          "iopub.status.busy": "2025-03-09T13:13:47.583332Z",
          "iopub.execute_input": "2025-03-09T13:13:47.583521Z",
          "iopub.status.idle": "2025-03-09T14:00:42.458394Z",
          "shell.execute_reply.started": "2025-03-09T13:13:47.583505Z",
          "shell.execute_reply": "2025-03-09T14:00:42.457489Z"
        },
        "id": "eL5nZzpH6LId",
        "outputId": "41dd1be3-e404-498e-8222-1e0f09151153"
      },
      "outputs": [
        {
          "name": "stdout",
          "text": "Epoch 1/10\n",
          "output_type": "stream"
        },
        {
          "name": "stderr",
          "text": "/usr/local/lib/python3.10/dist-packages/keras/src/trainers/data_adapters/py_dataset_adapter.py:122: UserWarning: Your `PyDataset` class should call `super().__init__(**kwargs)` in its constructor. `**kwargs` can include `workers`, `use_multiprocessing`, `max_queue_size`. Do not pass these arguments to `fit()`, as they will be ignored.\n  self._warn_if_super_not_called()\n",
          "output_type": "stream"
        },
        {
          "name": "stdout",
          "text": "\u001b[1m236/236\u001b[0m \u001b[32m━━━━━━━━━━━━━━━━━━━━\u001b[0m\u001b[37m\u001b[0m \u001b[1m404s\u001b[0m 2s/step - accuracy: 0.5021 - loss: 1.6259 - val_accuracy: 0.7420 - val_loss: 0.7404\nEpoch 2/10\n\u001b[1m236/236\u001b[0m \u001b[32m━━━━━━━━━━━━━━━━━━━━\u001b[0m\u001b[37m\u001b[0m \u001b[1m269s\u001b[0m 1s/step - accuracy: 0.7713 - loss: 0.6617 - val_accuracy: 0.7664 - val_loss: 0.6584\nEpoch 3/10\n\u001b[1m236/236\u001b[0m \u001b[32m━━━━━━━━━━━━━━━━━━━━\u001b[0m\u001b[37m\u001b[0m \u001b[1m267s\u001b[0m 1s/step - accuracy: 0.8066 - loss: 0.5539 - val_accuracy: 0.7841 - val_loss: 0.6014\nEpoch 4/10\n\u001b[1m236/236\u001b[0m \u001b[32m━━━━━━━━━━━━━━━━━━━━\u001b[0m\u001b[37m\u001b[0m \u001b[1m267s\u001b[0m 1s/step - accuracy: 0.8196 - loss: 0.4954 - val_accuracy: 0.7899 - val_loss: 0.5760\nEpoch 5/10\n\u001b[1m236/236\u001b[0m \u001b[32m━━━━━━━━━━━━━━━━━━━━\u001b[0m\u001b[37m\u001b[0m \u001b[1m269s\u001b[0m 1s/step - accuracy: 0.8422 - loss: 0.4515 - val_accuracy: 0.7923 - val_loss: 0.5654\nEpoch 6/10\n\u001b[1m236/236\u001b[0m \u001b[32m━━━━━━━━━━━━━━━━━━━━\u001b[0m\u001b[37m\u001b[0m \u001b[1m267s\u001b[0m 1s/step - accuracy: 0.8516 - loss: 0.4228 - val_accuracy: 0.7997 - val_loss: 0.5574\nEpoch 7/10\n\u001b[1m236/236\u001b[0m \u001b[32m━━━━━━━━━━━━━━━━━━━━\u001b[0m\u001b[37m\u001b[0m \u001b[1m267s\u001b[0m 1s/step - accuracy: 0.8540 - loss: 0.4135 - val_accuracy: 0.8017 - val_loss: 0.5398\nEpoch 8/10\n\u001b[1m236/236\u001b[0m \u001b[32m━━━━━━━━━━━━━━━━━━━━\u001b[0m\u001b[37m\u001b[0m \u001b[1m267s\u001b[0m 1s/step - accuracy: 0.8600 - loss: 0.3878 - val_accuracy: 0.7993 - val_loss: 0.5419\nEpoch 9/10\n\u001b[1m236/236\u001b[0m \u001b[32m━━━━━━━━━━━━━━━━━━━━\u001b[0m\u001b[37m\u001b[0m \u001b[1m267s\u001b[0m 1s/step - accuracy: 0.8699 - loss: 0.3674 - val_accuracy: 0.7989 - val_loss: 0.5488\nEpoch 10/10\n\u001b[1m236/236\u001b[0m \u001b[32m━━━━━━━━━━━━━━━━━━━━\u001b[0m\u001b[37m\u001b[0m \u001b[1m268s\u001b[0m 1s/step - accuracy: 0.8755 - loss: 0.3526 - val_accuracy: 0.8005 - val_loss: 0.5529\n",
          "output_type": "stream"
        }
      ],
      "execution_count": null
    },
    {
      "cell_type": "code",
      "source": [
        "for i, layer in enumerate(base_model.layers):\n",
        "    print(i, layer.name, \"Trainable:\", layer.trainable)"
      ],
      "metadata": {
        "trusted": true,
        "execution": {
          "iopub.status.busy": "2025-03-09T14:00:42.459899Z",
          "iopub.execute_input": "2025-03-09T14:00:42.46038Z",
          "iopub.status.idle": "2025-03-09T14:00:42.565418Z",
          "shell.execute_reply.started": "2025-03-09T14:00:42.460359Z",
          "shell.execute_reply": "2025-03-09T14:00:42.564812Z"
        },
        "id": "5OgsmaL06LIe",
        "outputId": "c5aeddf5-dba9-47bb-d730-92bcc0b03b91"
      },
      "outputs": [
        {
          "name": "stdout",
          "text": "0 input_layer Trainable: False\n1 Conv1 Trainable: False\n2 bn_Conv1 Trainable: False\n3 Conv1_relu Trainable: False\n4 expanded_conv_depthwise Trainable: False\n5 expanded_conv_depthwise_BN Trainable: False\n6 expanded_conv_depthwise_relu Trainable: False\n7 expanded_conv_project Trainable: False\n8 expanded_conv_project_BN Trainable: False\n9 block_1_expand Trainable: False\n10 block_1_expand_BN Trainable: False\n11 block_1_expand_relu Trainable: False\n12 block_1_pad Trainable: False\n13 block_1_depthwise Trainable: False\n14 block_1_depthwise_BN Trainable: False\n15 block_1_depthwise_relu Trainable: False\n16 block_1_project Trainable: False\n17 block_1_project_BN Trainable: False\n18 block_2_expand Trainable: False\n19 block_2_expand_BN Trainable: False\n20 block_2_expand_relu Trainable: False\n21 block_2_depthwise Trainable: False\n22 block_2_depthwise_BN Trainable: False\n23 block_2_depthwise_relu Trainable: False\n24 block_2_project Trainable: False\n25 block_2_project_BN Trainable: False\n26 block_2_add Trainable: False\n27 block_3_expand Trainable: False\n28 block_3_expand_BN Trainable: False\n29 block_3_expand_relu Trainable: False\n30 block_3_pad Trainable: False\n31 block_3_depthwise Trainable: False\n32 block_3_depthwise_BN Trainable: False\n33 block_3_depthwise_relu Trainable: False\n34 block_3_project Trainable: False\n35 block_3_project_BN Trainable: False\n36 block_4_expand Trainable: False\n37 block_4_expand_BN Trainable: False\n38 block_4_expand_relu Trainable: False\n39 block_4_depthwise Trainable: False\n40 block_4_depthwise_BN Trainable: False\n41 block_4_depthwise_relu Trainable: False\n42 block_4_project Trainable: False\n43 block_4_project_BN Trainable: False\n44 block_4_add Trainable: False\n45 block_5_expand Trainable: False\n46 block_5_expand_BN Trainable: False\n47 block_5_expand_relu Trainable: False\n48 block_5_depthwise Trainable: False\n49 block_5_depthwise_BN Trainable: False\n50 block_5_depthwise_relu Trainable: False\n51 block_5_project Trainable: False\n52 block_5_project_BN Trainable: False\n53 block_5_add Trainable: False\n54 block_6_expand Trainable: False\n55 block_6_expand_BN Trainable: False\n56 block_6_expand_relu Trainable: False\n57 block_6_pad Trainable: False\n58 block_6_depthwise Trainable: False\n59 block_6_depthwise_BN Trainable: False\n60 block_6_depthwise_relu Trainable: False\n61 block_6_project Trainable: False\n62 block_6_project_BN Trainable: False\n63 block_7_expand Trainable: False\n64 block_7_expand_BN Trainable: False\n65 block_7_expand_relu Trainable: False\n66 block_7_depthwise Trainable: False\n67 block_7_depthwise_BN Trainable: False\n68 block_7_depthwise_relu Trainable: False\n69 block_7_project Trainable: False\n70 block_7_project_BN Trainable: False\n71 block_7_add Trainable: False\n72 block_8_expand Trainable: False\n73 block_8_expand_BN Trainable: False\n74 block_8_expand_relu Trainable: False\n75 block_8_depthwise Trainable: False\n76 block_8_depthwise_BN Trainable: False\n77 block_8_depthwise_relu Trainable: False\n78 block_8_project Trainable: False\n79 block_8_project_BN Trainable: False\n80 block_8_add Trainable: False\n81 block_9_expand Trainable: False\n82 block_9_expand_BN Trainable: False\n83 block_9_expand_relu Trainable: False\n84 block_9_depthwise Trainable: False\n85 block_9_depthwise_BN Trainable: False\n86 block_9_depthwise_relu Trainable: False\n87 block_9_project Trainable: False\n88 block_9_project_BN Trainable: False\n89 block_9_add Trainable: False\n90 block_10_expand Trainable: False\n91 block_10_expand_BN Trainable: False\n92 block_10_expand_relu Trainable: False\n93 block_10_depthwise Trainable: False\n94 block_10_depthwise_BN Trainable: False\n95 block_10_depthwise_relu Trainable: False\n96 block_10_project Trainable: False\n97 block_10_project_BN Trainable: False\n98 block_11_expand Trainable: False\n99 block_11_expand_BN Trainable: False\n100 block_11_expand_relu Trainable: False\n101 block_11_depthwise Trainable: False\n102 block_11_depthwise_BN Trainable: False\n103 block_11_depthwise_relu Trainable: False\n104 block_11_project Trainable: False\n105 block_11_project_BN Trainable: False\n106 block_11_add Trainable: False\n107 block_12_expand Trainable: False\n108 block_12_expand_BN Trainable: False\n109 block_12_expand_relu Trainable: False\n110 block_12_depthwise Trainable: False\n111 block_12_depthwise_BN Trainable: False\n112 block_12_depthwise_relu Trainable: False\n113 block_12_project Trainable: False\n114 block_12_project_BN Trainable: False\n115 block_12_add Trainable: False\n116 block_13_expand Trainable: False\n117 block_13_expand_BN Trainable: False\n118 block_13_expand_relu Trainable: False\n119 block_13_pad Trainable: False\n120 block_13_depthwise Trainable: False\n121 block_13_depthwise_BN Trainable: False\n122 block_13_depthwise_relu Trainable: False\n123 block_13_project Trainable: False\n124 block_13_project_BN Trainable: False\n125 block_14_expand Trainable: False\n126 block_14_expand_BN Trainable: False\n127 block_14_expand_relu Trainable: False\n128 block_14_depthwise Trainable: False\n129 block_14_depthwise_BN Trainable: False\n130 block_14_depthwise_relu Trainable: False\n131 block_14_project Trainable: False\n132 block_14_project_BN Trainable: False\n133 block_14_add Trainable: False\n134 block_15_expand Trainable: False\n135 block_15_expand_BN Trainable: False\n136 block_15_expand_relu Trainable: False\n137 block_15_depthwise Trainable: False\n138 block_15_depthwise_BN Trainable: False\n139 block_15_depthwise_relu Trainable: False\n140 block_15_project Trainable: False\n141 block_15_project_BN Trainable: False\n142 block_15_add Trainable: False\n143 block_16_expand Trainable: False\n144 block_16_expand_BN Trainable: False\n145 block_16_expand_relu Trainable: False\n146 block_16_depthwise Trainable: False\n147 block_16_depthwise_BN Trainable: False\n148 block_16_depthwise_relu Trainable: False\n149 block_16_project Trainable: False\n150 block_16_project_BN Trainable: False\n151 Conv_1 Trainable: False\n152 Conv_1_bn Trainable: False\n153 out_relu Trainable: False\n",
          "output_type": "stream"
        }
      ],
      "execution_count": null
    },
    {
      "cell_type": "code",
      "source": [
        "print(len(base_model.layers))"
      ],
      "metadata": {
        "trusted": true,
        "execution": {
          "iopub.status.busy": "2025-03-09T14:00:42.5663Z",
          "iopub.execute_input": "2025-03-09T14:00:42.566603Z",
          "iopub.status.idle": "2025-03-09T14:00:42.570986Z",
          "shell.execute_reply.started": "2025-03-09T14:00:42.566571Z",
          "shell.execute_reply": "2025-03-09T14:00:42.570128Z"
        },
        "id": "UAfVIe2X6LIe",
        "outputId": "4ee97c9c-2856-4195-8497-d295e2ad4410"
      },
      "outputs": [
        {
          "name": "stdout",
          "text": "154\n",
          "output_type": "stream"
        }
      ],
      "execution_count": null
    },
    {
      "cell_type": "code",
      "source": [
        "base_model.trainable = True\n",
        "for layer in base_model.layers[: -36]:\n",
        "    layer.trainable = False\n",
        "\n",
        "model.compile(optimizer=tf.keras.optimizers.Adam(3e-5),\n",
        "              loss='categorical_crossentropy',\n",
        "              metrics=['accuracy'])\n",
        "\n",
        "history_finetune = model.fit(train_generator,\n",
        "                             epochs=10,\n",
        "                             validation_data=valid_generator,\n",
        "                             callbacks=[early_stopping, lr_scheduler])"
      ],
      "metadata": {
        "trusted": true,
        "execution": {
          "iopub.status.busy": "2025-03-09T14:00:42.571857Z",
          "iopub.execute_input": "2025-03-09T14:00:42.572059Z",
          "iopub.status.idle": "2025-03-09T14:45:38.877557Z",
          "shell.execute_reply.started": "2025-03-09T14:00:42.572042Z",
          "shell.execute_reply": "2025-03-09T14:45:38.876773Z"
        },
        "id": "gvTtvyJv6LIe",
        "outputId": "e3ec358e-a85f-44ad-f955-6858a1189109"
      },
      "outputs": [
        {
          "name": "stdout",
          "text": "Epoch 1/10\n\u001b[1m236/236\u001b[0m \u001b[32m━━━━━━━━━━━━━━━━━━━━\u001b[0m\u001b[37m\u001b[0m \u001b[1m289s\u001b[0m 1s/step - accuracy: 0.7162 - loss: 0.8619 - val_accuracy: 0.7636 - val_loss: 0.7210 - learning_rate: 3.0000e-05\nEpoch 2/10\n\u001b[1m236/236\u001b[0m \u001b[32m━━━━━━━━━━━━━━━━━━━━\u001b[0m\u001b[37m\u001b[0m \u001b[1m268s\u001b[0m 1s/step - accuracy: 0.8556 - loss: 0.3953 - val_accuracy: 0.7895 - val_loss: 0.6185 - learning_rate: 3.0000e-05\nEpoch 3/10\n\u001b[1m236/236\u001b[0m \u001b[32m━━━━━━━━━━━━━━━━━━━━\u001b[0m\u001b[37m\u001b[0m \u001b[1m266s\u001b[0m 1s/step - accuracy: 0.8883 - loss: 0.3022 - val_accuracy: 0.8063 - val_loss: 0.5711 - learning_rate: 3.0000e-05\nEpoch 4/10\n\u001b[1m236/236\u001b[0m \u001b[32m━━━━━━━━━━━━━━━━━━━━\u001b[0m\u001b[37m\u001b[0m \u001b[1m267s\u001b[0m 1s/step - accuracy: 0.9172 - loss: 0.2450 - val_accuracy: 0.8166 - val_loss: 0.5360 - learning_rate: 3.0000e-05\nEpoch 5/10\n\u001b[1m236/236\u001b[0m \u001b[32m━━━━━━━━━━━━━━━━━━━━\u001b[0m\u001b[37m\u001b[0m \u001b[1m267s\u001b[0m 1s/step - accuracy: 0.9351 - loss: 0.2013 - val_accuracy: 0.8200 - val_loss: 0.5153 - learning_rate: 3.0000e-05\nEpoch 6/10\n\u001b[1m236/236\u001b[0m \u001b[32m━━━━━━━━━━━━━━━━━━━━\u001b[0m\u001b[37m\u001b[0m \u001b[1m267s\u001b[0m 1s/step - accuracy: 0.9515 - loss: 0.1626 - val_accuracy: 0.8194 - val_loss: 0.5169 - learning_rate: 3.0000e-05\nEpoch 7/10\n\u001b[1m236/236\u001b[0m \u001b[32m━━━━━━━━━━━━━━━━━━━━\u001b[0m\u001b[37m\u001b[0m \u001b[1m269s\u001b[0m 1s/step - accuracy: 0.9601 - loss: 0.1419 - val_accuracy: 0.8222 - val_loss: 0.5183 - learning_rate: 3.0000e-05\nEpoch 8/10\n\u001b[1m236/236\u001b[0m \u001b[32m━━━━━━━━━━━━━━━━━━━━\u001b[0m\u001b[37m\u001b[0m \u001b[1m267s\u001b[0m 1s/step - accuracy: 0.9669 - loss: 0.1219 - val_accuracy: 0.8328 - val_loss: 0.5085 - learning_rate: 3.0000e-05\nEpoch 9/10\n\u001b[1m236/236\u001b[0m \u001b[32m━━━━━━━━━━━━━━━━━━━━\u001b[0m\u001b[37m\u001b[0m \u001b[1m267s\u001b[0m 1s/step - accuracy: 0.9700 - loss: 0.1073 - val_accuracy: 0.8278 - val_loss: 0.5193 - learning_rate: 3.0000e-05\nEpoch 10/10\n\u001b[1m236/236\u001b[0m \u001b[32m━━━━━━━━━━━━━━━━━━━━\u001b[0m\u001b[37m\u001b[0m \u001b[1m267s\u001b[0m 1s/step - accuracy: 0.9779 - loss: 0.0892 - val_accuracy: 0.8312 - val_loss: 0.5029 - learning_rate: 3.0000e-05\n",
          "output_type": "stream"
        }
      ],
      "execution_count": null
    },
    {
      "cell_type": "code",
      "source": [
        "print(\"Final Training Accuracy: {:.2f}%\".format(history_finetune.history['accuracy'][-1] * 100))\n",
        "print(\"Final Validation Accuracy: {:.2f}%\".format(history_finetune.history['val_accuracy'][-1] * 100))"
      ],
      "metadata": {
        "trusted": true,
        "execution": {
          "iopub.status.busy": "2025-03-09T14:45:38.878617Z",
          "iopub.execute_input": "2025-03-09T14:45:38.878951Z",
          "iopub.status.idle": "2025-03-09T14:45:38.88443Z",
          "shell.execute_reply.started": "2025-03-09T14:45:38.87892Z",
          "shell.execute_reply": "2025-03-09T14:45:38.883505Z"
        },
        "id": "cXV7G_q_6LIf",
        "outputId": "29c1d7ab-2eb5-455e-cc75-53eada8540f1"
      },
      "outputs": [
        {
          "name": "stdout",
          "text": "Final Training Accuracy: 97.48%\nFinal Validation Accuracy: 83.12%\n",
          "output_type": "stream"
        }
      ],
      "execution_count": null
    },
    {
      "cell_type": "code",
      "source": [
        "model.save(\"new_1_crop_disease_model.keras\")"
      ],
      "metadata": {
        "trusted": true,
        "execution": {
          "iopub.status.busy": "2025-03-09T14:45:38.885387Z",
          "iopub.execute_input": "2025-03-09T14:45:38.885767Z",
          "iopub.status.idle": "2025-03-09T14:45:39.326071Z",
          "shell.execute_reply.started": "2025-03-09T14:45:38.885712Z",
          "shell.execute_reply": "2025-03-09T14:45:39.325325Z"
        },
        "id": "dgFfFJGJ6LIf"
      },
      "outputs": [],
      "execution_count": null
    },
    {
      "cell_type": "code",
      "source": [
        "from IPython.display import FileLink\n",
        "FileLink(r'new_1_crop_disease_model.keras')"
      ],
      "metadata": {
        "trusted": true,
        "execution": {
          "iopub.status.busy": "2025-03-09T14:45:39.326873Z",
          "iopub.execute_input": "2025-03-09T14:45:39.327085Z",
          "iopub.status.idle": "2025-03-09T14:45:39.332178Z",
          "shell.execute_reply.started": "2025-03-09T14:45:39.327066Z",
          "shell.execute_reply": "2025-03-09T14:45:39.331292Z"
        },
        "id": "KnEWq5rY6LIf",
        "outputId": "4ffcb90c-e4ac-4f13-b5c5-9223ed7aad68"
      },
      "outputs": [
        {
          "execution_count": 17,
          "output_type": "execute_result",
          "data": {
            "text/plain": "/kaggle/working/new_1_crop_disease_model.keras",
            "text/html": "<a href='new_1_crop_disease_model.keras' target='_blank'>new_1_crop_disease_model.keras</a><br>"
          },
          "metadata": {}
        }
      ],
      "execution_count": null
    },
    {
      "cell_type": "code",
      "source": [
        "model = tf.keras.models.load_model(\"new_1_crop_disease_model.keras\")\n",
        "converter = tf.lite.TFLiteConverter.from_keras_model(model)\n",
        "tflite_model = converter.convert()\n",
        "with open(\"crop_1_disease_model.tflite\", \"wb\") as f:\n",
        "    f.write(tflite_model)"
      ],
      "metadata": {
        "trusted": true,
        "execution": {
          "iopub.status.busy": "2025-03-09T14:45:39.332911Z",
          "iopub.execute_input": "2025-03-09T14:45:39.333093Z",
          "iopub.status.idle": "2025-03-09T14:45:51.093713Z",
          "shell.execute_reply.started": "2025-03-09T14:45:39.333077Z",
          "shell.execute_reply": "2025-03-09T14:45:51.092154Z"
        },
        "id": "mJp2H4iI6LIf",
        "outputId": "1ea4a1ca-7cfb-4631-83f8-64cb1a7917b0"
      },
      "outputs": [
        {
          "name": "stdout",
          "text": "Saved artifact at '/tmp/tmpn_oxb884'. The following endpoints are available:\n\n* Endpoint 'serve'\n  args_0 (POSITIONAL_ONLY): TensorSpec(shape=(None, 224, 224, 3), dtype=tf.float32, name='input_layer_1')\nOutput Type:\n  TensorSpec(shape=(None, 22), dtype=tf.float32, name=None)\nCaptures:\n  136473613371696: TensorSpec(shape=(), dtype=tf.resource, name=None)\n  136473613382608: TensorSpec(shape=(), dtype=tf.resource, name=None)\n  136473613384720: TensorSpec(shape=(), dtype=tf.resource, name=None)\n  136473613378032: TensorSpec(shape=(), dtype=tf.resource, name=None)\n  136473613380320: TensorSpec(shape=(), dtype=tf.resource, name=None)\n  136473613382080: TensorSpec(shape=(), dtype=tf.resource, name=None)\n  136473612716336: TensorSpec(shape=(), dtype=tf.resource, name=None)\n  136473612720912: TensorSpec(shape=(), dtype=tf.resource, name=None)\n  136473612721088: TensorSpec(shape=(), dtype=tf.resource, name=None)\n  136473612723200: TensorSpec(shape=(), dtype=tf.resource, name=None)\n  136473612719856: TensorSpec(shape=(), dtype=tf.resource, name=None)\n  136473612718976: TensorSpec(shape=(), dtype=tf.resource, name=None)\n  136473612714224: TensorSpec(shape=(), dtype=tf.resource, name=None)\n  136473612718800: TensorSpec(shape=(), dtype=tf.resource, name=None)\n  136473612714928: TensorSpec(shape=(), dtype=tf.resource, name=None)\n  136473612716160: TensorSpec(shape=(), dtype=tf.resource, name=None)\n  136473612485552: TensorSpec(shape=(), dtype=tf.resource, name=None)\n  136473612489952: TensorSpec(shape=(), dtype=tf.resource, name=None)\n  136473612486608: TensorSpec(shape=(), dtype=tf.resource, name=None)\n  136473612489248: TensorSpec(shape=(), dtype=tf.resource, name=None)\n  136473612493824: TensorSpec(shape=(), dtype=tf.resource, name=None)\n  136473612494000: TensorSpec(shape=(), dtype=tf.resource, name=None)\n  136473612498400: TensorSpec(shape=(), dtype=tf.resource, name=None)\n  136473612495056: TensorSpec(shape=(), dtype=tf.resource, name=None)\n  136473612497696: TensorSpec(shape=(), dtype=tf.resource, name=None)\n  136473612495232: TensorSpec(shape=(), dtype=tf.resource, name=None)\n  136473612400096: TensorSpec(shape=(), dtype=tf.resource, name=None)\n  136473612398688: TensorSpec(shape=(), dtype=tf.resource, name=None)\n  136473612402208: TensorSpec(shape=(), dtype=tf.resource, name=None)\n  136473612399568: TensorSpec(shape=(), dtype=tf.resource, name=None)\n  136473612396928: TensorSpec(shape=(), dtype=tf.resource, name=None)\n  136473612394992: TensorSpec(shape=(), dtype=tf.resource, name=None)\n  136473612392880: TensorSpec(shape=(), dtype=tf.resource, name=None)\n  136473612396400: TensorSpec(shape=(), dtype=tf.resource, name=None)\n  136473612393760: TensorSpec(shape=(), dtype=tf.resource, name=None)\n  136473612389536: TensorSpec(shape=(), dtype=tf.resource, name=None)\n  136473612388832: TensorSpec(shape=(), dtype=tf.resource, name=None)\n  136473612389008: TensorSpec(shape=(), dtype=tf.resource, name=None)\n  136473612386896: TensorSpec(shape=(), dtype=tf.resource, name=None)\n  136473612389184: TensorSpec(shape=(), dtype=tf.resource, name=None)\n  136473612799664: TensorSpec(shape=(), dtype=tf.resource, name=None)\n  136473612799840: TensorSpec(shape=(), dtype=tf.resource, name=None)\n  136473612804240: TensorSpec(shape=(), dtype=tf.resource, name=None)\n  136473612800896: TensorSpec(shape=(), dtype=tf.resource, name=None)\n  136473612803536: TensorSpec(shape=(), dtype=tf.resource, name=None)\n  136473612806880: TensorSpec(shape=(), dtype=tf.resource, name=None)\n  136473612807056: TensorSpec(shape=(), dtype=tf.resource, name=None)\n  136473612811456: TensorSpec(shape=(), dtype=tf.resource, name=None)\n  136473612808112: TensorSpec(shape=(), dtype=tf.resource, name=None)\n  136473612810752: TensorSpec(shape=(), dtype=tf.resource, name=None)\n  136473612808288: TensorSpec(shape=(), dtype=tf.resource, name=None)\n  136473612914528: TensorSpec(shape=(), dtype=tf.resource, name=None)\n  136473612919984: TensorSpec(shape=(), dtype=tf.resource, name=None)\n  136473612913824: TensorSpec(shape=(), dtype=tf.resource, name=None)\n  136473612916992: TensorSpec(shape=(), dtype=tf.resource, name=None)\n  136473612920512: TensorSpec(shape=(), dtype=tf.resource, name=None)\n  136473612920688: TensorSpec(shape=(), dtype=tf.resource, name=None)\n  136473612925088: TensorSpec(shape=(), dtype=tf.resource, name=None)\n  136473612922272: TensorSpec(shape=(), dtype=tf.resource, name=None)\n  136473612923504: TensorSpec(shape=(), dtype=tf.resource, name=None)\n  136473612921568: TensorSpec(shape=(), dtype=tf.resource, name=None)\n  136473613008960: TensorSpec(shape=(), dtype=tf.resource, name=None)\n  136473613013360: TensorSpec(shape=(), dtype=tf.resource, name=None)\n  136473613010544: TensorSpec(shape=(), dtype=tf.resource, name=None)\n  136473613011248: TensorSpec(shape=(), dtype=tf.resource, name=None)\n  136473613015824: TensorSpec(shape=(), dtype=tf.resource, name=None)\n  136473613016000: TensorSpec(shape=(), dtype=tf.resource, name=None)\n  136473613020400: TensorSpec(shape=(), dtype=tf.resource, name=None)\n  136473613017056: TensorSpec(shape=(), dtype=tf.resource, name=None)\n  136473613019696: TensorSpec(shape=(), dtype=tf.resource, name=None)\n  136473613023744: TensorSpec(shape=(), dtype=tf.resource, name=None)\n  136473613024624: TensorSpec(shape=(), dtype=tf.resource, name=None)\n  136473613022864: TensorSpec(shape=(), dtype=tf.resource, name=None)\n  136473613024976: TensorSpec(shape=(), dtype=tf.resource, name=None)\n  136473612124752: TensorSpec(shape=(), dtype=tf.resource, name=None)\n  136473612129152: TensorSpec(shape=(), dtype=tf.resource, name=None)\n  136473612129328: TensorSpec(shape=(), dtype=tf.resource, name=None)\n  136473612133728: TensorSpec(shape=(), dtype=tf.resource, name=None)\n  136473612130384: TensorSpec(shape=(), dtype=tf.resource, name=None)\n  136473612133024: TensorSpec(shape=(), dtype=tf.resource, name=None)\n  136473612136192: TensorSpec(shape=(), dtype=tf.resource, name=None)\n  136473612136368: TensorSpec(shape=(), dtype=tf.resource, name=None)\n  136473612136896: TensorSpec(shape=(), dtype=tf.resource, name=None)\n  136473612138128: TensorSpec(shape=(), dtype=tf.resource, name=None)\n  136473612139360: TensorSpec(shape=(), dtype=tf.resource, name=None)\n  136473611733824: TensorSpec(shape=(), dtype=tf.resource, name=None)\n  136473611734000: TensorSpec(shape=(), dtype=tf.resource, name=None)\n  136473611738400: TensorSpec(shape=(), dtype=tf.resource, name=None)\n  136473611735056: TensorSpec(shape=(), dtype=tf.resource, name=None)\n  136473611737696: TensorSpec(shape=(), dtype=tf.resource, name=None)\n  136473611741040: TensorSpec(shape=(), dtype=tf.resource, name=None)\n  136473611741216: TensorSpec(shape=(), dtype=tf.resource, name=None)\n  136473611745616: TensorSpec(shape=(), dtype=tf.resource, name=None)\n  136473611742272: TensorSpec(shape=(), dtype=tf.resource, name=None)\n  136473611744912: TensorSpec(shape=(), dtype=tf.resource, name=None)\n  136473611742448: TensorSpec(shape=(), dtype=tf.resource, name=None)\n  136473611815920: TensorSpec(shape=(), dtype=tf.resource, name=None)\n  136473611820672: TensorSpec(shape=(), dtype=tf.resource, name=None)\n  136473611818032: TensorSpec(shape=(), dtype=tf.resource, name=None)\n  136473611818736: TensorSpec(shape=(), dtype=tf.resource, name=None)\n  136473611821728: TensorSpec(shape=(), dtype=tf.resource, name=None)\n  136473611821200: TensorSpec(shape=(), dtype=tf.resource, name=None)\n  136473611826304: TensorSpec(shape=(), dtype=tf.resource, name=None)\n  136473611823136: TensorSpec(shape=(), dtype=tf.resource, name=None)\n  136473611827008: TensorSpec(shape=(), dtype=tf.resource, name=None)\n  136473611828064: TensorSpec(shape=(), dtype=tf.resource, name=None)\n  136473611930080: TensorSpec(shape=(), dtype=tf.resource, name=None)\n  136473611927616: TensorSpec(shape=(), dtype=tf.resource, name=None)\n  136473611928320: TensorSpec(shape=(), dtype=tf.resource, name=None)\n  136473611929024: TensorSpec(shape=(), dtype=tf.resource, name=None)\n  136473611933600: TensorSpec(shape=(), dtype=tf.resource, name=None)\n  136473611933776: TensorSpec(shape=(), dtype=tf.resource, name=None)\n  136473611938176: TensorSpec(shape=(), dtype=tf.resource, name=None)\n  136473611934832: TensorSpec(shape=(), dtype=tf.resource, name=None)\n  136473611937472: TensorSpec(shape=(), dtype=tf.resource, name=None)\n  136473611941520: TensorSpec(shape=(), dtype=tf.resource, name=None)\n  136473611942400: TensorSpec(shape=(), dtype=tf.resource, name=None)\n  136473611941344: TensorSpec(shape=(), dtype=tf.resource, name=None)\n  136473611943632: TensorSpec(shape=(), dtype=tf.resource, name=None)\n  136473611940640: TensorSpec(shape=(), dtype=tf.resource, name=None)\n  136473612045120: TensorSpec(shape=(), dtype=tf.resource, name=None)\n  136473612047408: TensorSpec(shape=(), dtype=tf.resource, name=None)\n  136473612049696: TensorSpec(shape=(), dtype=tf.resource, name=None)\n  136473612048992: TensorSpec(shape=(), dtype=tf.resource, name=None)\n  136473612050048: TensorSpec(shape=(), dtype=tf.resource, name=None)\n  136473612052512: TensorSpec(shape=(), dtype=tf.resource, name=None)\n  136473612052688: TensorSpec(shape=(), dtype=tf.resource, name=None)\n  136473612057968: TensorSpec(shape=(), dtype=tf.resource, name=None)\n  136473612054800: TensorSpec(shape=(), dtype=tf.resource, name=None)\n  136473612057264: TensorSpec(shape=(), dtype=tf.resource, name=None)\n  136473612054624: TensorSpec(shape=(), dtype=tf.resource, name=None)\n  136473611339904: TensorSpec(shape=(), dtype=tf.resource, name=None)\n  136473611344304: TensorSpec(shape=(), dtype=tf.resource, name=None)\n  136473611340960: TensorSpec(shape=(), dtype=tf.resource, name=None)\n  136473611343600: TensorSpec(shape=(), dtype=tf.resource, name=None)\n  136473611346944: TensorSpec(shape=(), dtype=tf.resource, name=None)\n  136473611347120: TensorSpec(shape=(), dtype=tf.resource, name=None)\n  136473611351520: TensorSpec(shape=(), dtype=tf.resource, name=None)\n  136473611348176: TensorSpec(shape=(), dtype=tf.resource, name=None)\n  136473611350816: TensorSpec(shape=(), dtype=tf.resource, name=None)\n  136473611348352: TensorSpec(shape=(), dtype=tf.resource, name=None)\n  136473611387120: TensorSpec(shape=(), dtype=tf.resource, name=None)\n  136473611391520: TensorSpec(shape=(), dtype=tf.resource, name=None)\n  136473611388176: TensorSpec(shape=(), dtype=tf.resource, name=None)\n  136473611390816: TensorSpec(shape=(), dtype=tf.resource, name=None)\n  136473611393984: TensorSpec(shape=(), dtype=tf.resource, name=None)\n  136473611394160: TensorSpec(shape=(), dtype=tf.resource, name=None)\n  136473611398560: TensorSpec(shape=(), dtype=tf.resource, name=None)\n  136473611395216: TensorSpec(shape=(), dtype=tf.resource, name=None)\n  136473611397856: TensorSpec(shape=(), dtype=tf.resource, name=None)\n  136473611402080: TensorSpec(shape=(), dtype=tf.resource, name=None)\n  136473611402960: TensorSpec(shape=(), dtype=tf.resource, name=None)\n  136473611454768: TensorSpec(shape=(), dtype=tf.resource, name=None)\n  136473611402608: TensorSpec(shape=(), dtype=tf.resource, name=None)\n  136473611453184: TensorSpec(shape=(), dtype=tf.resource, name=None)\n  136473611457584: TensorSpec(shape=(), dtype=tf.resource, name=None)\n  136473611457760: TensorSpec(shape=(), dtype=tf.resource, name=None)\n  136473611462160: TensorSpec(shape=(), dtype=tf.resource, name=None)\n  136473611458816: TensorSpec(shape=(), dtype=tf.resource, name=None)\n  136473611461456: TensorSpec(shape=(), dtype=tf.resource, name=None)\n  136473611464624: TensorSpec(shape=(), dtype=tf.resource, name=None)\n  136473611464800: TensorSpec(shape=(), dtype=tf.resource, name=None)\n  136473611465328: TensorSpec(shape=(), dtype=tf.resource, name=None)\n  136473611466560: TensorSpec(shape=(), dtype=tf.resource, name=None)\n  136473611467792: TensorSpec(shape=(), dtype=tf.resource, name=None)\n  136473611552544: TensorSpec(shape=(), dtype=tf.resource, name=None)\n  136473611552720: TensorSpec(shape=(), dtype=tf.resource, name=None)\n  136473611557120: TensorSpec(shape=(), dtype=tf.resource, name=None)\n  136473611553776: TensorSpec(shape=(), dtype=tf.resource, name=None)\n  136473611556416: TensorSpec(shape=(), dtype=tf.resource, name=None)\n  136473611559584: TensorSpec(shape=(), dtype=tf.resource, name=None)\n  136473611559760: TensorSpec(shape=(), dtype=tf.resource, name=None)\n  136473611564160: TensorSpec(shape=(), dtype=tf.resource, name=None)\n  136473611560816: TensorSpec(shape=(), dtype=tf.resource, name=None)\n  136473611563456: TensorSpec(shape=(), dtype=tf.resource, name=None)\n  136473611560992: TensorSpec(shape=(), dtype=tf.resource, name=None)\n  136473611702112: TensorSpec(shape=(), dtype=tf.resource, name=None)\n  136473611702464: TensorSpec(shape=(), dtype=tf.resource, name=None)\n  136473611699648: TensorSpec(shape=(), dtype=tf.resource, name=None)\n  136473611700352: TensorSpec(shape=(), dtype=tf.resource, name=None)\n  136473611705104: TensorSpec(shape=(), dtype=tf.resource, name=None)\n  136473611705280: TensorSpec(shape=(), dtype=tf.resource, name=None)\n  136473611709680: TensorSpec(shape=(), dtype=tf.resource, name=None)\n  136473611706336: TensorSpec(shape=(), dtype=tf.resource, name=None)\n  136473611708976: TensorSpec(shape=(), dtype=tf.resource, name=None)\n  136473611713024: TensorSpec(shape=(), dtype=tf.resource, name=None)\n  136473611713904: TensorSpec(shape=(), dtype=tf.resource, name=None)\n  136473611712144: TensorSpec(shape=(), dtype=tf.resource, name=None)\n  136473611714256: TensorSpec(shape=(), dtype=tf.resource, name=None)\n  136473612239440: TensorSpec(shape=(), dtype=tf.resource, name=None)\n  136473612243664: TensorSpec(shape=(), dtype=tf.resource, name=None)\n  136473612243840: TensorSpec(shape=(), dtype=tf.resource, name=None)\n  136473612248240: TensorSpec(shape=(), dtype=tf.resource, name=None)\n  136473612244896: TensorSpec(shape=(), dtype=tf.resource, name=None)\n  136473612247536: TensorSpec(shape=(), dtype=tf.resource, name=None)\n  136473612250880: TensorSpec(shape=(), dtype=tf.resource, name=None)\n  136473612251056: TensorSpec(shape=(), dtype=tf.resource, name=None)\n  136473612251584: TensorSpec(shape=(), dtype=tf.resource, name=None)\n  136473612252816: TensorSpec(shape=(), dtype=tf.resource, name=None)\n  136473612254048: TensorSpec(shape=(), dtype=tf.resource, name=None)\n  136473612325056: TensorSpec(shape=(), dtype=tf.resource, name=None)\n  136473612325232: TensorSpec(shape=(), dtype=tf.resource, name=None)\n  136473612329632: TensorSpec(shape=(), dtype=tf.resource, name=None)\n  136473612326288: TensorSpec(shape=(), dtype=tf.resource, name=None)\n  136473612328928: TensorSpec(shape=(), dtype=tf.resource, name=None)\n  136473612332096: TensorSpec(shape=(), dtype=tf.resource, name=None)\n  136473612332272: TensorSpec(shape=(), dtype=tf.resource, name=None)\n  136473612336672: TensorSpec(shape=(), dtype=tf.resource, name=None)\n  136473612333328: TensorSpec(shape=(), dtype=tf.resource, name=None)\n  136473612335968: TensorSpec(shape=(), dtype=tf.resource, name=None)\n  136473612333504: TensorSpec(shape=(), dtype=tf.resource, name=None)\n  136473610323040: TensorSpec(shape=(), dtype=tf.resource, name=None)\n  136473610327440: TensorSpec(shape=(), dtype=tf.resource, name=None)\n  136473610324096: TensorSpec(shape=(), dtype=tf.resource, name=None)\n  136473610326736: TensorSpec(shape=(), dtype=tf.resource, name=None)\n  136473610329904: TensorSpec(shape=(), dtype=tf.resource, name=None)\n  136473610330080: TensorSpec(shape=(), dtype=tf.resource, name=None)\n  136473610334480: TensorSpec(shape=(), dtype=tf.resource, name=None)\n  136473610331136: TensorSpec(shape=(), dtype=tf.resource, name=None)\n  136473610333776: TensorSpec(shape=(), dtype=tf.resource, name=None)\n  136473610337824: TensorSpec(shape=(), dtype=tf.resource, name=None)\n  136473610455344: TensorSpec(shape=(), dtype=tf.resource, name=None)\n  136473610453936: TensorSpec(shape=(), dtype=tf.resource, name=None)\n  136473610453584: TensorSpec(shape=(), dtype=tf.resource, name=None)\n  136473610454288: TensorSpec(shape=(), dtype=tf.resource, name=None)\n  136473610459040: TensorSpec(shape=(), dtype=tf.resource, name=None)\n  136473610459216: TensorSpec(shape=(), dtype=tf.resource, name=None)\n  136473610463616: TensorSpec(shape=(), dtype=tf.resource, name=None)\n  136473610460272: TensorSpec(shape=(), dtype=tf.resource, name=None)\n  136473610462912: TensorSpec(shape=(), dtype=tf.resource, name=None)\n  136473610466960: TensorSpec(shape=(), dtype=tf.resource, name=None)\n  136473610467840: TensorSpec(shape=(), dtype=tf.resource, name=None)\n  136473610466784: TensorSpec(shape=(), dtype=tf.resource, name=None)\n  136473610469072: TensorSpec(shape=(), dtype=tf.resource, name=None)\n  136473610466080: TensorSpec(shape=(), dtype=tf.resource, name=None)\n  136473610506080: TensorSpec(shape=(), dtype=tf.resource, name=None)\n  136473610506256: TensorSpec(shape=(), dtype=tf.resource, name=None)\n  136473610510656: TensorSpec(shape=(), dtype=tf.resource, name=None)\n  136473610507312: TensorSpec(shape=(), dtype=tf.resource, name=None)\n  136473610509952: TensorSpec(shape=(), dtype=tf.resource, name=None)\n  136473610513296: TensorSpec(shape=(), dtype=tf.resource, name=None)\n  136473610513472: TensorSpec(shape=(), dtype=tf.resource, name=None)\n  136473610517872: TensorSpec(shape=(), dtype=tf.resource, name=None)\n  136473610514528: TensorSpec(shape=(), dtype=tf.resource, name=None)\n  136473610517168: TensorSpec(shape=(), dtype=tf.resource, name=None)\n  136473610514704: TensorSpec(shape=(), dtype=tf.resource, name=None)\n  136473610635392: TensorSpec(shape=(), dtype=tf.resource, name=None)\n  136473610639792: TensorSpec(shape=(), dtype=tf.resource, name=None)\n  136473610636448: TensorSpec(shape=(), dtype=tf.resource, name=None)\n  136473610639088: TensorSpec(shape=(), dtype=tf.resource, name=None)\n  136473610642256: TensorSpec(shape=(), dtype=tf.resource, name=None)\n  136473610642432: TensorSpec(shape=(), dtype=tf.resource, name=None)\n  136473610646832: TensorSpec(shape=(), dtype=tf.resource, name=None)\n  136473610643488: TensorSpec(shape=(), dtype=tf.resource, name=None)\n  136473610646128: TensorSpec(shape=(), dtype=tf.resource, name=None)\n  136473610648944: TensorSpec(shape=(), dtype=tf.resource, name=None)\n  136473610699520: TensorSpec(shape=(), dtype=tf.resource, name=None)\n  136473610701632: TensorSpec(shape=(), dtype=tf.resource, name=None)\n  136473610698992: TensorSpec(shape=(), dtype=tf.resource, name=None)\n  136473610699872: TensorSpec(shape=(), dtype=tf.resource, name=None)\n  136473610703744: TensorSpec(shape=(), dtype=tf.resource, name=None)\n  136473611111408: TensorSpec(shape=(), dtype=tf.resource, name=None)\n",
          "output_type": "stream"
        }
      ],
      "execution_count": null
    },
    {
      "cell_type": "code",
      "source": [
        "from IPython.display import FileLink\n",
        "FileLink(r'crop_1_disease_model.tflite')"
      ],
      "metadata": {
        "trusted": true,
        "execution": {
          "iopub.status.busy": "2025-03-09T14:45:51.095408Z",
          "iopub.execute_input": "2025-03-09T14:45:51.096041Z",
          "iopub.status.idle": "2025-03-09T14:45:51.105921Z",
          "shell.execute_reply.started": "2025-03-09T14:45:51.095969Z",
          "shell.execute_reply": "2025-03-09T14:45:51.104001Z"
        },
        "id": "Unm7obsw6LIf",
        "outputId": "1e91bed9-b1c2-46af-a00c-176cc59cb084"
      },
      "outputs": [
        {
          "execution_count": 19,
          "output_type": "execute_result",
          "data": {
            "text/plain": "/kaggle/working/crop_1_disease_model.tflite",
            "text/html": "<a href='crop_1_disease_model.tflite' target='_blank'>crop_1_disease_model.tflite</a><br>"
          },
          "metadata": {}
        }
      ],
      "execution_count": null
    },
    {
      "cell_type": "code",
      "source": [
        "from sklearn.metrics import classification_report\n",
        "import numpy as np"
      ],
      "metadata": {
        "trusted": true,
        "execution": {
          "iopub.status.busy": "2025-03-09T14:45:51.107889Z",
          "iopub.execute_input": "2025-03-09T14:45:51.108544Z",
          "iopub.status.idle": "2025-03-09T14:45:51.61115Z",
          "shell.execute_reply.started": "2025-03-09T14:45:51.10848Z",
          "shell.execute_reply": "2025-03-09T14:45:51.610467Z"
        },
        "id": "7jcxhUbh6LIg"
      },
      "outputs": [],
      "execution_count": null
    },
    {
      "cell_type": "code",
      "source": [
        "y_true = test_generator.classes\n",
        "y_pred_probs = model.predict(test_generator)\n",
        "y_pred = np.argmax(y_pred_probs, axis=1)\n",
        "class_labels = list(test_generator.class_indices.keys())\n",
        "print(classification_report(y_true, y_pred, target_names=class_labels))"
      ],
      "metadata": {
        "trusted": true,
        "execution": {
          "iopub.status.busy": "2025-03-09T14:46:33.987236Z",
          "iopub.execute_input": "2025-03-09T14:46:33.987445Z",
          "iopub.status.idle": "2025-03-09T14:47:47.814364Z",
          "shell.execute_reply.started": "2025-03-09T14:46:33.987425Z",
          "shell.execute_reply": "2025-03-09T14:47:47.813669Z"
        },
        "id": "lCVGJ9vl6LIg",
        "outputId": "0c32fe5d-f426-4267-ef0b-7b02caf7d28c"
      },
      "outputs": [
        {
          "name": "stderr",
          "text": "/usr/local/lib/python3.10/dist-packages/keras/src/trainers/data_adapters/py_dataset_adapter.py:122: UserWarning: Your `PyDataset` class should call `super().__init__(**kwargs)` in its constructor. `**kwargs` can include `workers`, `use_multiprocessing`, `max_queue_size`. Do not pass these arguments to `fit()`, as they will be ignored.\n  self._warn_if_super_not_called()\n",
          "output_type": "stream"
        },
        {
          "name": "stdout",
          "text": "\u001b[1m79/79\u001b[0m \u001b[32m━━━━━━━━━━━━━━━━━━━━\u001b[0m\u001b[37m\u001b[0m \u001b[1m72s\u001b[0m 917ms/step\n                           precision    recall  f1-score   support\n\n       anthracnose-cashew       0.88      0.84      0.86       347\n bacterial blight-cassava       0.91      0.85      0.88       524\n       brown spot-cassava       0.84      0.90      0.87       297\n    cashew-mosaic-cassava       0.93      0.95      0.94       241\n      fall armyworm-maize       0.94      0.77      0.85        57\n         grasshoper-maize       0.97      0.85      0.91       136\n       green mite-cassava       0.92      0.88      0.90       203\n           gumosis-cashew       0.99      0.96      0.97        79\n           healthy-cashew       0.93      0.95      0.94       275\n          healthy-cassava       0.91      0.97      0.94       240\n            healthy-maize       0.79      0.76      0.77        41\n           healthy-tomato       0.72      0.88      0.80        95\n        leaf beetle-maize       0.89      0.96      0.93       189\n        leaf blight-maize       0.73      0.60      0.66       200\n       leaf blight-tomato       0.64      0.49      0.55       260\n         leaf curl-tomato       0.83      0.39      0.53       103\n        leaf miner-cashew       0.88      0.93      0.90       277\n          leaf spot-maize       0.67      0.80      0.73       250\n          red rust-cashew       0.98      0.96      0.97       337\nseptoria leaf spot-tomato       0.70      0.90      0.79       550\n       streak virus-maize       0.88      0.87      0.87       195\n  verticulium wilt-tomato       0.56      0.33      0.42       156\n\n                 accuracy                           0.84      5052\n                macro avg       0.84      0.81      0.82      5052\n             weighted avg       0.84      0.84      0.83      5052\n\n",
          "output_type": "stream"
        }
      ],
      "execution_count": null
    },
    {
      "cell_type": "code",
      "source": [
        "print(class_labels)"
      ],
      "metadata": {
        "trusted": true,
        "execution": {
          "iopub.status.busy": "2025-03-09T14:47:47.815204Z",
          "iopub.execute_input": "2025-03-09T14:47:47.815498Z",
          "iopub.status.idle": "2025-03-09T14:47:47.819977Z",
          "shell.execute_reply.started": "2025-03-09T14:47:47.815462Z",
          "shell.execute_reply": "2025-03-09T14:47:47.819149Z"
        },
        "id": "f6Aobnkg6LIg",
        "outputId": "d1f709b4-825d-48e9-bf08-17a489355a22"
      },
      "outputs": [
        {
          "name": "stdout",
          "text": "['anthracnose-cashew', 'bacterial blight-cassava', 'brown spot-cassava', 'cashew-mosaic-cassava', 'fall armyworm-maize', 'grasshoper-maize', 'green mite-cassava', 'gumosis-cashew', 'healthy-cashew', 'healthy-cassava', 'healthy-maize', 'healthy-tomato', 'leaf beetle-maize', 'leaf blight-maize', 'leaf blight-tomato', 'leaf curl-tomato', 'leaf miner-cashew', 'leaf spot-maize', 'red rust-cashew', 'septoria leaf spot-tomato', 'streak virus-maize', 'verticulium wilt-tomato']\n",
          "output_type": "stream"
        }
      ],
      "execution_count": null
    },
    {
      "cell_type": "code",
      "source": [
        "model = load_model(\"new_1_crop_disease_model.keras\")"
      ],
      "metadata": {
        "trusted": true,
        "execution": {
          "iopub.status.busy": "2025-03-09T16:37:33.344507Z",
          "iopub.execute_input": "2025-03-09T16:37:33.344849Z",
          "iopub.status.idle": "2025-03-09T16:37:34.277648Z",
          "shell.execute_reply.started": "2025-03-09T16:37:33.344824Z",
          "shell.execute_reply": "2025-03-09T16:37:34.276732Z"
        },
        "id": "5Jfusxvp6LIg"
      },
      "outputs": [],
      "execution_count": null
    },
    {
      "cell_type": "code",
      "source": [
        "from sklearn.metrics import accuracy_score, precision_score, recall_score, f1_score, classification_report\n",
        "import numpy as np\n",
        "\n",
        "y_true = test_generator.classes\n",
        "y_pred_probs = model.predict(test_generator)\n",
        "\n",
        "thresholds = np.arange(0.1, 1.0, 0.1)\n",
        "\n",
        "print(f\"{'Threshold':<10}{'Accuracy':<10}{'Precision':<10}{'Recall':<10}{'F1-score':<10}\")\n",
        "print(f\"{'-'*50}\")\n",
        "\n",
        "for thresh in thresholds:\n",
        "    y_pred = np.where(y_pred_probs >= thresh, 1, 0)\n",
        "    y_pred_labels = np.argmax(y_pred, axis=1)\n",
        "    accuracy = accuracy_score(y_true, y_pred_labels)\n",
        "    precision = precision_score(y_true, y_pred_labels, average='weighted', zero_division=1)\n",
        "    recall = recall_score(y_true, y_pred_labels, average='weighted', zero_division=1)\n",
        "    f1 = f1_score(y_true, y_pred_labels, average='weighted', zero_division=1)\n",
        "    print(f\"{thresh:<10.2f}{accuracy:<10.4f}{precision:<10.4f}{recall:<10.4f}{f1:<10.4f}\")\n",
        "\n",
        "class_labels = list(test_generator.class_indices.keys())\n",
        "print(\"\\nClassification Report:\")\n",
        "print(classification_report(y_true, np.argmax(y_pred_probs, axis=1), target_names=class_labels))"
      ],
      "metadata": {
        "trusted": true,
        "execution": {
          "iopub.status.busy": "2025-03-09T16:03:48.922386Z",
          "iopub.execute_input": "2025-03-09T16:03:48.922689Z",
          "iopub.status.idle": "2025-03-09T16:04:26.371037Z",
          "shell.execute_reply.started": "2025-03-09T16:03:48.922667Z",
          "shell.execute_reply": "2025-03-09T16:04:26.370263Z"
        },
        "id": "RIbRRpd16LIg",
        "outputId": "99b175b1-9f4c-4438-f860-ce94c4e55b6a"
      },
      "outputs": [
        {
          "name": "stdout",
          "text": "\u001b[1m79/79\u001b[0m \u001b[32m━━━━━━━━━━━━━━━━━━━━\u001b[0m\u001b[37m\u001b[0m \u001b[1m36s\u001b[0m 461ms/step\nThreshold Accuracy  Precision Recall    F1-score  \n--------------------------------------------------\n0.10      0.8096    0.8220    0.8096    0.8035    \n0.20      0.8316    0.8359    0.8316    0.8263    \n0.30      0.8369    0.8372    0.8369    0.8321    \n0.40      0.8369    0.8375    0.8369    0.8312    \n0.50      0.8266    0.8323    0.8266    0.8210    \n0.60      0.8064    0.8360    0.8064    0.8062    \n0.70      0.7805    0.8431    0.7805    0.7883    \n0.80      0.7466    0.8541    0.7466    0.7645    \n0.90      0.6902    0.8735    0.6902    0.7245    \n\nClassification Report:\n                           precision    recall  f1-score   support\n\n       anthracnose-cashew       0.88      0.84      0.86       347\n bacterial blight-cassava       0.91      0.85      0.88       524\n       brown spot-cassava       0.84      0.90      0.87       297\n    cashew-mosaic-cassava       0.93      0.95      0.94       241\n      fall armyworm-maize       0.94      0.77      0.85        57\n         grasshoper-maize       0.97      0.85      0.91       136\n       green mite-cassava       0.92      0.88      0.90       203\n           gumosis-cashew       0.99      0.96      0.97        79\n           healthy-cashew       0.93      0.95      0.94       275\n          healthy-cassava       0.91      0.97      0.94       240\n            healthy-maize       0.79      0.76      0.77        41\n           healthy-tomato       0.72      0.88      0.80        95\n        leaf beetle-maize       0.89      0.96      0.93       189\n        leaf blight-maize       0.73      0.60      0.66       200\n       leaf blight-tomato       0.64      0.49      0.55       260\n         leaf curl-tomato       0.83      0.39      0.53       103\n        leaf miner-cashew       0.88      0.93      0.90       277\n          leaf spot-maize       0.67      0.80      0.73       250\n          red rust-cashew       0.98      0.96      0.97       337\nseptoria leaf spot-tomato       0.70      0.90      0.79       550\n       streak virus-maize       0.88      0.87      0.87       195\n  verticulium wilt-tomato       0.56      0.33      0.42       156\n\n                 accuracy                           0.84      5052\n                macro avg       0.84      0.81      0.82      5052\n             weighted avg       0.84      0.84      0.83      5052\n\n",
          "output_type": "stream"
        }
      ],
      "execution_count": null
    },
    {
      "cell_type": "code",
      "source": [
        "y_true = test_generator.classes\n",
        "y_pred_probs = model.predict(test_generator)\n",
        "\n",
        "thresholds = np.arange(0.4, 1.0, 0.05)\n",
        "\n",
        "print(f\"{'Threshold':<10}{'Accuracy':<10}{'Precision':<10}{'Recall':<10}{'F1-score':<10}\")\n",
        "print(f\"{'-'*50}\")\n",
        "\n",
        "for thresh in thresholds:\n",
        "    y_pred = np.where(y_pred_probs >= thresh, 1, 0)\n",
        "    y_pred_labels = np.argmax(y_pred, axis=1)\n",
        "    accuracy = accuracy_score(y_true, y_pred_labels)\n",
        "    precision = precision_score(y_true, y_pred_labels, average='weighted', zero_division=1)\n",
        "    recall = recall_score(y_true, y_pred_labels, average='weighted', zero_division=1)\n",
        "    f1 = f1_score(y_true, y_pred_labels, average='weighted', zero_division=1)\n",
        "    print(f\"{thresh:<10.2f}{accuracy:<10.4f}{precision:<10.4f}{recall:<10.4f}{f1:<10.4f}\")\n",
        "\n",
        "class_labels = list(test_generator.class_indices.keys())\n",
        "print(\"\\nClassification Report:\")\n",
        "print(classification_report(y_true, np.argmax(y_pred_probs, axis=1), target_names=class_labels))"
      ],
      "metadata": {
        "trusted": true,
        "execution": {
          "iopub.status.busy": "2025-03-09T16:38:28.511767Z",
          "iopub.execute_input": "2025-03-09T16:38:28.512146Z",
          "iopub.status.idle": "2025-03-09T16:39:14.682781Z",
          "shell.execute_reply.started": "2025-03-09T16:38:28.512118Z",
          "shell.execute_reply": "2025-03-09T16:39:14.682089Z"
        },
        "id": "7jD-S2ho6LIh",
        "outputId": "5d4a6e4b-3b73-46da-c093-46ecddc3df44"
      },
      "outputs": [
        {
          "name": "stdout",
          "text": "\u001b[1m79/79\u001b[0m \u001b[32m━━━━━━━━━━━━━━━━━━━━\u001b[0m\u001b[37m\u001b[0m \u001b[1m45s\u001b[0m 542ms/step\nThreshold Accuracy  Precision Recall    F1-score  \n--------------------------------------------------\n0.40      0.8369    0.8375    0.8369    0.8312    \n0.45      0.8325    0.8334    0.8325    0.8264    \n0.50      0.8266    0.8323    0.8266    0.8210    \n0.55      0.8181    0.8331    0.8181    0.8145    \n0.60      0.8064    0.8360    0.8064    0.8062    \n0.65      0.7947    0.8383    0.7947    0.7977    \n0.70      0.7805    0.8431    0.7805    0.7883    \n0.75      0.7662    0.8499    0.7662    0.7789    \n0.80      0.7466    0.8541    0.7466    0.7645    \n0.85      0.7221    0.8603    0.7221    0.7477    \n0.90      0.6902    0.8735    0.6902    0.7245    \n0.95      0.6285    0.8873    0.6285    0.6752    \n\nClassification Report:\n                           precision    recall  f1-score   support\n\n       anthracnose-cashew       0.88      0.84      0.86       347\n bacterial blight-cassava       0.91      0.85      0.88       524\n       brown spot-cassava       0.84      0.90      0.87       297\n    cashew-mosaic-cassava       0.93      0.95      0.94       241\n      fall armyworm-maize       0.94      0.77      0.85        57\n         grasshoper-maize       0.97      0.85      0.91       136\n       green mite-cassava       0.92      0.88      0.90       203\n           gumosis-cashew       0.99      0.96      0.97        79\n           healthy-cashew       0.93      0.95      0.94       275\n          healthy-cassava       0.91      0.97      0.94       240\n            healthy-maize       0.79      0.76      0.77        41\n           healthy-tomato       0.72      0.88      0.80        95\n        leaf beetle-maize       0.89      0.96      0.93       189\n        leaf blight-maize       0.73      0.60      0.66       200\n       leaf blight-tomato       0.64      0.49      0.55       260\n         leaf curl-tomato       0.83      0.39      0.53       103\n        leaf miner-cashew       0.88      0.93      0.90       277\n          leaf spot-maize       0.67      0.80      0.73       250\n          red rust-cashew       0.98      0.96      0.97       337\nseptoria leaf spot-tomato       0.70      0.90      0.79       550\n       streak virus-maize       0.88      0.87      0.87       195\n  verticulium wilt-tomato       0.56      0.33      0.42       156\n\n                 accuracy                           0.84      5052\n                macro avg       0.84      0.81      0.82      5052\n             weighted avg       0.84      0.84      0.83      5052\n\n",
          "output_type": "stream"
        }
      ],
      "execution_count": null
    },
    {
      "cell_type": "code",
      "source": [
        "from sklearn.metrics import accuracy_score, precision_score, recall_score, f1_score, classification_report\n",
        "import numpy as np\n",
        "\n",
        "y_true = test_generator.classes\n",
        "y_pred_probs = model.predict(test_generator)\n",
        "\n",
        "threshold = 0.395  #.435\n",
        "\n",
        "y_pred = np.where(y_pred_probs >= threshold, 1, 0)\n",
        "y_pred_labels = np.argmax(y_pred, axis=1)\n",
        "\n",
        "accuracy = accuracy_score(y_true, y_pred_labels)\n",
        "precision = precision_score(y_true, y_pred_labels, average='weighted', zero_division=1)\n",
        "recall = recall_score(y_true, y_pred_labels, average='weighted', zero_division=1)\n",
        "f1 = f1_score(y_true, y_pred_labels, average='weighted', zero_division=1)\n",
        "\n",
        "print(f\"{'Metric':<12}{'Value':<10}\")\n",
        "print(f\"{'-'*22}\")\n",
        "print(f\"{'Accuracy':<12}{accuracy:<10.4f}\")\n",
        "print(f\"{'Precision':<12}{precision:<10.4f}\")\n",
        "print(f\"{'Recall':<12}{recall:<10.4f}\")\n",
        "print(f\"{'F1-score':<12}{f1:<10.4f}\")\n",
        "\n",
        "class_labels = list(test_generator.class_indices.keys())\n",
        "print(\"\\nClassification Report:\")\n",
        "print(classification_report(y_true, np.argmax(y_pred_probs, axis=1), target_names=class_labels))"
      ],
      "metadata": {
        "trusted": true,
        "execution": {
          "iopub.status.busy": "2025-03-09T17:11:19.692216Z",
          "iopub.execute_input": "2025-03-09T17:11:19.692513Z",
          "iopub.status.idle": "2025-03-09T17:11:57.13687Z",
          "shell.execute_reply.started": "2025-03-09T17:11:19.692489Z",
          "shell.execute_reply": "2025-03-09T17:11:57.136043Z"
        },
        "id": "vb3XvU1L6LIh",
        "outputId": "dd3d93d2-1e28-49ff-bfd2-036d734dc704"
      },
      "outputs": [
        {
          "name": "stdout",
          "text": "\u001b[1m79/79\u001b[0m \u001b[32m━━━━━━━━━━━━━━━━━━━━\u001b[0m\u001b[37m\u001b[0m \u001b[1m37s\u001b[0m 462ms/step\nMetric      Value     \n----------------------\nAccuracy    0.8373    \nPrecision   0.8379    \nRecall      0.8373    \nF1-score    0.8318    \n\nClassification Report:\n                           precision    recall  f1-score   support\n\n       anthracnose-cashew       0.88      0.84      0.86       347\n bacterial blight-cassava       0.91      0.85      0.88       524\n       brown spot-cassava       0.84      0.90      0.87       297\n    cashew-mosaic-cassava       0.93      0.95      0.94       241\n      fall armyworm-maize       0.94      0.77      0.85        57\n         grasshoper-maize       0.97      0.85      0.91       136\n       green mite-cassava       0.92      0.88      0.90       203\n           gumosis-cashew       0.99      0.96      0.97        79\n           healthy-cashew       0.93      0.95      0.94       275\n          healthy-cassava       0.91      0.97      0.94       240\n            healthy-maize       0.79      0.76      0.77        41\n           healthy-tomato       0.72      0.88      0.80        95\n        leaf beetle-maize       0.89      0.96      0.93       189\n        leaf blight-maize       0.73      0.60      0.66       200\n       leaf blight-tomato       0.64      0.49      0.55       260\n         leaf curl-tomato       0.83      0.39      0.53       103\n        leaf miner-cashew       0.88      0.93      0.90       277\n          leaf spot-maize       0.67      0.80      0.73       250\n          red rust-cashew       0.98      0.96      0.97       337\nseptoria leaf spot-tomato       0.70      0.90      0.79       550\n       streak virus-maize       0.88      0.87      0.87       195\n  verticulium wilt-tomato       0.56      0.33      0.42       156\n\n                 accuracy                           0.84      5052\n                macro avg       0.84      0.81      0.82      5052\n             weighted avg       0.84      0.84      0.83      5052\n\n",
          "output_type": "stream"
        }
      ],
      "execution_count": null
    },
    {
      "cell_type": "code",
      "source": [
        "from tensorflow.keras.models import load_model, Model\n",
        "from tensorflow.keras.layers import Dense, Dropout\n",
        "from tensorflow.keras.regularizers import l2\n",
        "\n",
        "model = load_model(\"new_1_crop_disease_model.keras\")\n",
        "\n",
        "x = model.layers[-2].output\n",
        "x = Dense(768, activation=\"relu\", kernel_regularizer=l2(1e-4))(x)\n",
        "x = Dropout(0.4)(x)\n",
        "x = Dense(256, activation=\"relu\", kernel_regularizer=l2(1e-4))(x)\n",
        "x = Dropout(0.25)(x)\n",
        "output = Dense(22, activation=\"softmax\")(x)\n",
        "new_model = Model(inputs=model.input, outputs=output)\n",
        "\n",
        "for layer in model.layers[:-5]:\n",
        "    layer.trainable = False\n",
        "new_model.compile(optimizer=\"adam\", loss=\"categorical_crossentropy\", metrics=[\"accuracy\"])"
      ],
      "metadata": {
        "trusted": true,
        "execution": {
          "iopub.status.busy": "2025-03-09T16:35:09.386289Z",
          "iopub.status.idle": "2025-03-09T16:35:09.386525Z",
          "shell.execute_reply": "2025-03-09T16:35:09.386429Z"
        },
        "id": "sJ3Y-5OV6LIh"
      },
      "outputs": [],
      "execution_count": null
    }
  ]
}